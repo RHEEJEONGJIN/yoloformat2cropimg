{
 "cells": [
  {
   "cell_type": "code",
   "execution_count": 45,
   "metadata": {},
   "outputs": [],
   "source": [
    "import glob, cv2, os"
   ]
  },
  {
   "cell_type": "code",
   "execution_count": 46,
   "metadata": {},
   "outputs": [],
   "source": [
    "def yolo2cls(image_path, label_path, cls_list, save_path):\n",
    "    image_path = glob.glob(f'{image_path}*.bmp')\n",
    "    label_path = glob.glob(f'{label_path}*.txt')\n",
    "    image_path.sort()\n",
    "    label_path.sort()\n",
    "\n",
    "    images, labels = [], []\n",
    "    for p in image_path:\n",
    "        img = cv2.imread(p, cv2.IMREAD_COLOR)\n",
    "        images.append(img)\n",
    "    for p in label_path:\n",
    "        if 'classes.txt' in p:\n",
    "            continue\n",
    "        with open(p, 'r') as f:\n",
    "            lbl = f.readlines()\n",
    "            f.close()\n",
    "        labels.append(lbl)\n",
    "        \n",
    "    cnt = 0\n",
    "    for i in range(len(images)):\n",
    "        img = images[i]\n",
    "        lbl = labels[i]\n",
    "        img_w, img_h = img.shape[1], img.shape[0]\n",
    "        for bbox in lbl:\n",
    "            bpoint = bbox.split('\\n')[0].split(' ')\n",
    "            bcls = cls[int(bpoint[0])]\n",
    "            x, y, w, h = float(bpoint[1]), float(bpoint[2]), float(bpoint[3]), float(bpoint[4])\n",
    "            x2 = int(((2*x*img_w)+(w*img_w))/2)\n",
    "            x1 = int(x2 - (w*img_w))\n",
    "            y2 = int(((2*y*img_h)+(h*img_h))/2)\n",
    "            y1 = int(y2 - (h*img_h))\n",
    "            im_crop = img[y1:y2,x1:x2]\n",
    "            os.makedirs(f'{save_path}{bcls}', exist_ok=True)\n",
    "            cv2.imwrite(f'{save_path}{bcls}/{str(cnt)}_{bcls}_{str(x)}x{str(y)}.jpg', im_crop)\n",
    "        cnt += 1"
   ]
  },
  {
   "cell_type": "code",
   "execution_count": 47,
   "metadata": {},
   "outputs": [],
   "source": [
    "image_path = 'data/images/'\n",
    "label_path = 'data/labels/'\n",
    "cls = ['ok', 'ng', 'cable', 'screw', 'fastener', 'over', 'less'] # input your classes\n",
    "save_path = 'data/result/'\n",
    "yolo2cls(image_path, label_path, cls, save_path)"
   ]
  },
  {
   "cell_type": "code",
   "execution_count": null,
   "metadata": {},
   "outputs": [],
   "source": []
  }
 ],
 "metadata": {
  "kernelspec": {
   "display_name": "Python 3.8.13 ('NEONENT')",
   "language": "python",
   "name": "python3"
  },
  "language_info": {
   "codemirror_mode": {
    "name": "ipython",
    "version": 3
   },
   "file_extension": ".py",
   "mimetype": "text/x-python",
   "name": "python",
   "nbconvert_exporter": "python",
   "pygments_lexer": "ipython3",
   "version": "3.8.13"
  },
  "orig_nbformat": 4,
  "vscode": {
   "interpreter": {
    "hash": "96496507b933c38c13a829123563ce685b288ee4810ed4bf67edf5d52f29c564"
   }
  }
 },
 "nbformat": 4,
 "nbformat_minor": 2
}
